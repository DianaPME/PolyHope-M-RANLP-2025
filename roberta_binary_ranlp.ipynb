{
 "cells": [
  {
   "cell_type": "code",
   "execution_count": 1,
   "metadata": {
    "executionInfo": {
     "elapsed": 11606,
     "status": "ok",
     "timestamp": 1743384864201,
     "user": {
      "displayName": "Diana Patricia Madera Esp\u00edndola",
      "userId": "01942114537042407486"
     },
     "user_tz": 360
    },
    "id": "mEl8taNDy4Ju"
   },
   "outputs": [],
   "source": [
    "import pandas as pd\n",
    "import transformers"
   ]
  },
  {
   "cell_type": "markdown",
   "metadata": {
    "id": "U72ULHQKzw8B"
   },
   "source": [
    "## Reading dataset"
   ]
  },
  {
   "cell_type": "code",
   "execution_count": null,
   "metadata": {
    "executionInfo": {
     "elapsed": 3692,
     "status": "ok",
     "timestamp": 1743384867889,
     "user": {
      "displayName": "Diana Patricia Madera Esp\u00edndola",
      "userId": "01942114537042407486"
     },
     "user_tz": 360
    },
    "id": "E3J7vaA5zODI"
   },
   "outputs": [],
   "source": [
    "file_path= 'dataset_merged_ranlp.csv'\n",
    "df= pd.read_csv(file_path)\n",
    "# Filter by train dataset\n",
    "train_df = df[df['source'] == 'train']\n",
    "# Filter by dev dataset\n",
    "dev_df = df[df['source'] == 'dev']"
   ]
  },
  {
   "cell_type": "markdown",
   "metadata": {
    "id": "22B1sQyqz1f7"
   },
   "source": [
    "## Binary Classification"
   ]
  },
  {
   "cell_type": "code",
   "execution_count": 3,
   "metadata": {
    "executionInfo": {
     "elapsed": 17,
     "status": "ok",
     "timestamp": 1743384867903,
     "user": {
      "displayName": "Diana Patricia Madera Esp\u00edndola",
      "userId": "01942114537042407486"
     },
     "user_tz": 360
    },
    "id": "hsrAG0qRz0hP"
   },
   "outputs": [],
   "source": [
    "target_names= ['0','1']\n",
    "class_names= ['Not Hope','Hope']"
   ]
  },
  {
   "cell_type": "code",
   "execution_count": 4,
   "metadata": {
    "executionInfo": {
     "elapsed": 373,
     "status": "ok",
     "timestamp": 1743384868275,
     "user": {
      "displayName": "Diana Patricia Madera Esp\u00edndola",
      "userId": "01942114537042407486"
     },
     "user_tz": 360
    },
    "id": "nZOomvtjz6Lx"
   },
   "outputs": [],
   "source": [
    "def map_label(row):\n",
    "    if row['binary']=='Not Hope':\n",
    "        return 0\n",
    "    elif row['binary']=='Hope':\n",
    "        return 1\n",
    "\n",
    "train_df = train_df.assign(label= train_df.apply(map_label, axis=1))\n",
    "dev_df = dev_df.assign(label= dev_df.apply(map_label, axis=1))"
   ]
  },
  {
   "cell_type": "code",
   "execution_count": 7,
   "metadata": {
    "executionInfo": {
     "elapsed": 38926,
     "status": "ok",
     "timestamp": 1743384918343,
     "user": {
      "displayName": "Diana Patricia Madera Esp\u00edndola",
      "userId": "01942114537042407486"
     },
     "user_tz": 360
    },
    "id": "cmMZcWoCMIqi"
   },
   "outputs": [],
   "source": [
    "from simpletransformers.classification import ClassificationModel\n",
    "\n",
    "\n",
    "from simpletransformers.classification import (\n",
    "    MultiLabelClassificationModel, MultiLabelClassificationArgs\n",
    ")\n",
    "import logging\n",
    "\n",
    "\n",
    "logging.basicConfig(level=logging.INFO)\n",
    "transformers_logger = logging.getLogger(\"transformers\")\n",
    "transformers_logger.setLevel(logging.WARNING)"
   ]
  },
  {
   "cell_type": "code",
   "execution_count": null,
   "metadata": {
    "executionInfo": {
     "elapsed": 30,
     "status": "ok",
     "timestamp": 1743384918353,
     "user": {
      "displayName": "Diana Patricia Madera Esp\u00edndola",
      "userId": "01942114537042407486"
     },
     "user_tz": 360
    },
    "id": "I5rRQLkF0WB7"
   },
   "outputs": [],
   "source": [
    "def run_ModelTransformer(transformermodel, train, test):\n",
    "    # Create training data in the correct format for SimpleTransformers\n",
    "    train_df = pd.DataFrame({\n",
    "        'text': train['clean_text'],\n",
    "        'labels': train['label']\n",
    "    })\n",
    "\n",
    "    # Ensure labels are integers (needed for SimpleTransformers)\n",
    "    train_df['labels'] = train_df['labels'].astype(int)\n",
    "\n",
    "    # For unlabeled test data, create a DataFrame with just the text\n",
    "    test_df = pd.DataFrame({\n",
    "        'text': test['clean_text']\n",
    "    })\n",
    "\n",
    "\n",
    "    # Create a TransformerModel\n",
    "    model = ClassificationModel(\n",
    "        transformermodel[0],\n",
    "        transformermodel[1],\n",
    "        num_labels=2,\n",
    "        use_cuda=True,\n",
    "        ignore_mismatched_sizes=True,\n",
    "        args={\n",
    "            'num_train_epochs': 3,\n",
    "            'learning_rate': 1e-5,\n",
    "            'max_seq_length': 64,\n",
    "            'use_multiprocessing': False,\n",
    "            'use_multiprocessing_for_evaluation': False,\n",
    "            'overwrite_output_dir': True\n",
    "        }\n",
    "    )\n",
    "\n",
    "    # Train the model with the properly formatted DataFrame\n",
    "    model.train_model(train_df)\n",
    "\n",
    "    # Using predict method\n",
    "    predictions, raw_outputs = model.predict(test_df['text'].tolist())\n",
    "\n",
    "    # Save predictions to the original test DataFrame and export\n",
    "    test['predicted'] = predictions\n",
    "    test.to_csv('/predictions_binary_ranlp.csv', index=None)\n",
    "\n",
    "    # Output information about the prediction process\n",
    "    print(\"Predictions completed.\")\n",
    "    print(f\"Predicted {len(predictions)} samples.\")\n",
    "\n",
    "    # Return the predictions\n",
    "    return {\n",
    "        'predictions': predictions\n",
    "    }"
   ]
  },
  {
   "cell_type": "code",
   "execution_count": null,
   "metadata": {
    "colab": {
     "base_uri": "https://localhost:8080/",
     "height": 665,
     "referenced_widgets": [
      "e7a4bd13bc5a4e07b72b4df544d7ea21",
      "df92826a5d97420084ec15d00d7a0162",
      "3965f43f35814ac58c33018e76474792",
      "e04c0ad316694f489e3252eca29434a8",
      "5e140435f4ae4a43baefd2cb0ed0583c",
      "e4ca5c94125f4977916e61d1081911f8",
      "4200fbda7dd14eccb085e729a637c89f",
      "c7622b82ee0144b99310bc5a4d6b4f00",
      "639499d55d7848eb98fac494360a2c42",
      "dbd80df76c4b42a3b1c1f51c59acd602",
      "3699fc4fd0314df0b17cc5a57ef9eba4",
      "c4e707efff8d4a61b1e8772d5d562ad8",
      "5af288585a92493c88132f917f3d80ad",
      "4e361b78db704ae0931bcd8e936ece92",
      "370bd09e57e54ce9a158971ee02b8e39",
      "fbbc819855de4332a7c502a744969e84",
      "3c6289986b004fe9a858b7d3aabbae02",
      "00e023d006f443cbbd899a3cb61a5675",
      "5909cc2aabba4a7796862dbac7688253",
      "a722c8eaf0104936b2d2beb1ba5ae489",
      "b0db5c2a1cf140a983ecfc29722e2b0f",
      "17db40efb1a94963ab156956100d53de",
      "171da5c2856c4a9abadb43fc9bdb3071",
      "4eef131b66fd41a595e642be68f86c7e",
      "f11bc7b987e54a709b4f31b24cd50bee",
      "fca82f826105484da0a89e72922429ba",
      "4d89d097c4fd4f16b0f6e9f642dea66f",
      "9782b27522b14ea5b8a86b32adca87bb",
      "8852ec323c0248bd81de6dc673a08590",
      "f0ba881b3dc442c1bd5abd3b5d956965",
      "1dbcdc97b3ee4080aa4db1f05a562d82",
      "4966972807e1490ab17b5881ffff7e01",
      "1332dfe76d8c4937b3c0fc8928e50534",
      "d6d11182dfeb4ca59b5e2ac0eaaa3aad",
      "c9d2b5624acf463592574bd09321a24e",
      "693306929ecd49d3819228ffec9a3ae8",
      "59b9390035ba4d6fb962015be4b86d57",
      "0d45171ecf5543bd9e1b34fbfa8e7ee6",
      "e02c52d1584341fe9130371c4ee0b4ce",
      "1b9b8cbc71f2408fbf3947c2bbec88c5",
      "ededeeba541d4a51b8271d8bdab42af5",
      "8ca4208c416748b5a8c15c3e20232a6f",
      "805ff078cac24e3dafd13bfdb6a2f45f",
      "600b8811502b4c9cb08f764d065a59c2",
      "4ba805244fbe40ac905d3496aba1ba53",
      "586b7defd47a4ee6a8c68267987435d7",
      "8ca14c1abcd44294b3e53d7144bcf17b",
      "d7557df4189d482789cefaee769b9487",
      "dc6e514462c04e6abbaa11229fc4b6bc",
      "451949f58d8f489690520d8a75113208",
      "636891199b8b4836a60548905136fcdf",
      "a067405d71ee46a0a39b142f6e21e1f2",
      "d593bb0bdc1641c3856e1ed9ee89b394",
      "c69ecae6b78746ba8cdee548e1a3b212",
      "8c17d377329c4654b36cd62db925dc4b",
      "6e2a2bf8ae604fb69d829eb9be9a68b6",
      "518d55c5f53c40389cc2cd6d316a283f",
      "0fe3b7fd3c0a4775aecad1651f981129",
      "b24fa74babfa416e8acc90fa1eae974d",
      "cf5cc4d15d1c4d339b6aecf002a75d3d",
      "af8fad8a5bf5493d89cac2928142599d",
      "d88d31988a3f4e9eb0244b365a00a3ed",
      "150fd9c7ad304266b838d5a3792fc5dd",
      "3686d4f13d87450485f4c2f91d87e843",
      "7ffbc2135edd4b588d248b85775bfc17",
      "63fe25b2d2074041b8e8bea0238e7970",
      "a5c7141d49a54a0d8dbc1b79ceb8aae2",
      "e1b12ba5ec5e4be6bca489c88dac80c4",
      "d54b3a75658141a9a987d012ed5ffd30",
      "ba61c8d20dd846e7a391294d4100170b",
      "69672b5eeb224849b3e62aa395ed71fe",
      "3079e955240d41f395841c0f2f2eb283",
      "607d9e0b221c4a8489207affa1080ebc",
      "169f137e84ca4d04ae84081d26e04c03",
      "e35f2d4d617645a389e1c5a36c43d6aa",
      "36733b7da5ec47c6bd0ee807abc16a83",
      "ca074ae3dbb8494aa8ab9998c926e530",
      "9a2d3bf296c84c6fa71232c5c52c9fee",
      "87c3ede71df14d3ca2c69453dd0b638a",
      "cb4e0525702b43fdb94e216610bc8eac",
      "ec66ebb66be445ffa2fecfb206c6b39a",
      "1fe52a10c79c4e72977efeb67d5eff24",
      "9262491e8c0f4a43bca2559918fff11e",
      "8c73edfeeed347c2b73207b169fe5d8d",
      "ca596bac1680401db6a89f5610ff8a92",
      "d254d60e2dc1423ebeff3975fbec958e",
      "399ce0b5ddf841568e8a60f2515c8ff6",
      "5ce6478aedba493db8d4887ba68f97d5",
      "28a38cabf4db44f7ba21e54e28ddee97",
      "4cc315cebf9c4d62841082729974e892",
      "0f08a27de6bf42ecbeca0b9662cace62",
      "10e673be2e4d4fe99c8940f222e5d54a",
      "af5ff3e2cb084dad80a0cef4c4dc524e",
      "b1e5107138e9423c8fce0889a15f9d8d",
      "b0c3456bdfd84ef9b552606221a57508",
      "d5dd36c668d94da3894ede903c778f3b",
      "4671462ad9dc4e8c8875115d903797b2",
      "f01e2bd9e07a4a8c87fd0bdcfb2b3b72",
      "1a4ed067d7a742f6a4dd380ac5427c73",
      "6dd79a38d76847fdb86e39a65a7c0590",
      "7d85a19db47a47ab804bec060d97baf4",
      "fd95c8bb81984c98b62dc371b6a23ed6",
      "03f7c438957e4fecb019058aa43ab922",
      "e3a65d048c4e4c9ab0583dc8208ccbbc",
      "f4e104a4edaf4cb0b9c173ffb8b4f56d",
      "769d31e76e354987b6960320f432f031",
      "58288a630ab74a67b365eb3f06dd0084",
      "edabf3c232b241448a0adbce208611da",
      "652f03cb23e4461784a2f4c68fc7ef0c",
      "352674ce3fe74710b9bc39443e51944c"
     ]
    },
    "executionInfo": {
     "elapsed": 3404796,
     "status": "ok",
     "timestamp": 1743390504847,
     "user": {
      "displayName": "Diana Patricia Madera Esp\u00edndola",
      "userId": "01942114537042407486"
     },
     "user_tz": 360
    },
    "id": "WApXT6ZJ0ZKo",
    "outputId": "e1e7bd84-ac62-454a-f387-ad51cef8aaf0"
   },
   "outputs": [
    {
     "name": "stderr",
     "output_type": "stream",
     "text": [
      "/usr/local/lib/python3.11/dist-packages/huggingface_hub/utils/_auth.py:94: UserWarning: \n",
      "The secret `HF_TOKEN` does not exist in your Colab secrets.\n",
      "To authenticate with the Hugging Face Hub, create a token in your settings tab (https://huggingface.co/settings/tokens), set it as secret in your Google Colab and restart your session.\n",
      "You will be able to reuse this secret in all of your notebooks.\n",
      "Please note that authentication is recommended but still optional to access public models or datasets.\n",
      "  warnings.warn(\n"
     ]
    },
    {
     "data": {
      "application/vnd.jupyter.widget-view+json": {
       "model_id": "e7a4bd13bc5a4e07b72b4df544d7ea21",
       "version_major": 2,
       "version_minor": 0
      },
      "text/plain": [
       "config.json:   0%|          | 0.00/616 [00:00<?, ?B/s]"
      ]
     },
     "metadata": {},
     "output_type": "display_data"
    },
    {
     "data": {
      "application/vnd.jupyter.widget-view+json": {
       "model_id": "c4e707efff8d4a61b1e8772d5d562ad8",
       "version_major": 2,
       "version_minor": 0
      },
      "text/plain": [
       "model.safetensors:   0%|          | 0.00/2.24G [00:00<?, ?B/s]"
      ]
     },
     "metadata": {},
     "output_type": "display_data"
    },
    {
     "name": "stderr",
     "output_type": "stream",
     "text": [
      "Some weights of XLMRobertaForSequenceClassification were not initialized from the model checkpoint at xlm-roberta-large and are newly initialized: ['classifier.dense.bias', 'classifier.dense.weight', 'classifier.out_proj.bias', 'classifier.out_proj.weight']\n",
      "You should probably TRAIN this model on a down-stream task to be able to use it for predictions and inference.\n"
     ]
    },
    {
     "data": {
      "application/vnd.jupyter.widget-view+json": {
       "model_id": "171da5c2856c4a9abadb43fc9bdb3071",
       "version_major": 2,
       "version_minor": 0
      },
      "text/plain": [
       "tokenizer_config.json:   0%|          | 0.00/25.0 [00:00<?, ?B/s]"
      ]
     },
     "metadata": {},
     "output_type": "display_data"
    },
    {
     "data": {
      "application/vnd.jupyter.widget-view+json": {
       "model_id": "d6d11182dfeb4ca59b5e2ac0eaaa3aad",
       "version_major": 2,
       "version_minor": 0
      },
      "text/plain": [
       "sentencepiece.bpe.model:   0%|          | 0.00/5.07M [00:00<?, ?B/s]"
      ]
     },
     "metadata": {},
     "output_type": "display_data"
    },
    {
     "data": {
      "application/vnd.jupyter.widget-view+json": {
       "model_id": "4ba805244fbe40ac905d3496aba1ba53",
       "version_major": 2,
       "version_minor": 0
      },
      "text/plain": [
       "tokenizer.json:   0%|          | 0.00/9.10M [00:00<?, ?B/s]"
      ]
     },
     "metadata": {},
     "output_type": "display_data"
    },
    {
     "data": {
      "application/vnd.jupyter.widget-view+json": {
       "model_id": "6e2a2bf8ae604fb69d829eb9be9a68b6",
       "version_major": 2,
       "version_minor": 0
      },
      "text/plain": [
       "Epoch:   0%|          | 0/3 [00:00<?, ?it/s]"
      ]
     },
     "metadata": {},
     "output_type": "display_data"
    },
    {
     "name": "stderr",
     "output_type": "stream",
     "text": [
      "/usr/local/lib/python3.11/dist-packages/simpletransformers/classification/classification_model.py:882: FutureWarning: `torch.cuda.amp.GradScaler(args...)` is deprecated. Please use `torch.amp.GradScaler('cuda', args...)` instead.\n",
      "  scaler = amp.GradScaler()\n"
     ]
    },
    {
     "data": {
      "application/vnd.jupyter.widget-view+json": {
       "model_id": "a5c7141d49a54a0d8dbc1b79ceb8aae2",
       "version_major": 2,
       "version_minor": 0
      },
      "text/plain": [
       "Running Epoch 1 of 3:   0%|          | 0/4887 [00:00<?, ?it/s]"
      ]
     },
     "metadata": {},
     "output_type": "display_data"
    },
    {
     "name": "stderr",
     "output_type": "stream",
     "text": [
      "/usr/local/lib/python3.11/dist-packages/simpletransformers/classification/classification_model.py:905: FutureWarning: `torch.cuda.amp.autocast(args...)` is deprecated. Please use `torch.amp.autocast('cuda', args...)` instead.\n",
      "  with amp.autocast():\n"
     ]
    },
    {
     "data": {
      "application/vnd.jupyter.widget-view+json": {
       "model_id": "9a2d3bf296c84c6fa71232c5c52c9fee",
       "version_major": 2,
       "version_minor": 0
      },
      "text/plain": [
       "Running Epoch 2 of 3:   0%|          | 0/4887 [00:00<?, ?it/s]"
      ]
     },
     "metadata": {},
     "output_type": "display_data"
    },
    {
     "data": {
      "application/vnd.jupyter.widget-view+json": {
       "model_id": "28a38cabf4db44f7ba21e54e28ddee97",
       "version_major": 2,
       "version_minor": 0
      },
      "text/plain": [
       "Running Epoch 3 of 3:   0%|          | 0/4887 [00:00<?, ?it/s]"
      ]
     },
     "metadata": {},
     "output_type": "display_data"
    },
    {
     "data": {
      "application/vnd.jupyter.widget-view+json": {
       "model_id": "6dd79a38d76847fdb86e39a65a7c0590",
       "version_major": 2,
       "version_minor": 0
      },
      "text/plain": [
       "  0%|          | 0/143 [00:00<?, ?it/s]"
      ]
     },
     "metadata": {},
     "output_type": "display_data"
    },
    {
     "name": "stderr",
     "output_type": "stream",
     "text": [
      "/usr/local/lib/python3.11/dist-packages/simpletransformers/classification/classification_model.py:2188: FutureWarning: `torch.cuda.amp.autocast(args...)` is deprecated. Please use `torch.amp.autocast('cuda', args...)` instead.\n",
      "  with amp.autocast():\n"
     ]
    },
    {
     "name": "stdout",
     "output_type": "stream",
     "text": [
      "Predictions completed for unlabeled test data.\n",
      "Predicted 14221 samples.\n"
     ]
    },
    {
     "data": {
      "text/plain": [
       "{'predictions': array([1, 0, 0, ..., 0, 0, 0])}"
      ]
     },
     "execution_count": 10,
     "metadata": {},
     "output_type": "execute_result"
    }
   ],
   "source": [
    "run_ModelTransformer(['auto', 'xlm-roberta-large'],train_df, dev_df)"
   ]
  }
 ],
 "metadata": {
  "accelerator": "GPU",
  "colab": {
   "authorship_tag": "ABX9TyOMCvOlcpvCTkLfgtDKB9F8",
   "gpuType": "T4",
   "mount_file_id": "1Zjz_FmWFRDxZ6KNnTz4Bl8CdTZfJTw-w",
   "provenance": []
  },
  "kernelspec": {
   "display_name": "Python 3",
   "name": "python3"
  },
  "language_info": {
   "name": "python"
  }
 },
 "nbformat": 4,
 "nbformat_minor": 0
}